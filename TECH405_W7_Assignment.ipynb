{
  "nbformat": 4,
  "nbformat_minor": 0,
  "metadata": {
    "colab": {
      "provenance": []
    },
    "kernelspec": {
      "name": "python3",
      "display_name": "Python 3"
    },
    "language_info": {
      "name": "python"
    }
  },
  "cells": [
    {
      "cell_type": "code",
      "execution_count": null,
      "metadata": {
        "id": "gSP6xNGayU5A"
      },
      "outputs": [],
      "source": [
        "import pandas as pd\n",
        "import numpy as np\n",
        "import matplotlib.pyplot as plt\n",
        "import seaborn as sns\n",
        "from sklearn.model_selection import train_test_split\n",
        "from sklearn.feature_extraction.text import TfidfVectorizer\n",
        "from sklearn.linear_model import LogisticRegression\n",
        "from sklearn.metrics import classification_report, confusion_matrix\n",
        "import nltk\n",
        "from nltk.corpus import stopwords\n",
        "import string\n",
        "from gensim.models import Word2Vec\n",
        "from keras.models import Sequential\n",
        "from keras.layers import Dense, Embedding, GlobalAveragePooling1D"
      ]
    },
    {
      "cell_type": "code",
      "source": [
        "import pandas as pd\n",
        "import openpyxl  # Import openpyxl for Excel file reading"
      ],
      "metadata": {
        "id": "0tu9sTSMzkY5"
      },
      "execution_count": null,
      "outputs": []
    },
    {
      "cell_type": "code",
      "source": [
        "# Download NLTK stopwords\n",
        "nltk.download('stopwords')\n",
        "stop_words = set(stopwords.words('english'))"
      ],
      "metadata": {
        "colab": {
          "base_uri": "https://localhost:8080/"
        },
        "id": "zpDsRYzAy2oq",
        "outputId": "064e8e7d-864e-4fcc-80d2-981859d3a2a5"
      },
      "execution_count": null,
      "outputs": [
        {
          "output_type": "stream",
          "name": "stderr",
          "text": [
            "[nltk_data] Downloading package stopwords to /root/nltk_data...\n",
            "[nltk_data]   Unzipping corpora/stopwords.zip.\n"
          ]
        }
      ]
    },
    {
      "cell_type": "code",
      "source": [
        "data = pd.read_excel('evaluation.xlsx')\n",
        "data = data[['title', 'text', 'label']]  # Selecting relevant columns"
      ],
      "metadata": {
        "id": "fPTTdJUdyy3p"
      },
      "execution_count": null,
      "outputs": []
    },
    {
      "cell_type": "code",
      "source": [
        "data.head()"
      ],
      "metadata": {
        "colab": {
          "base_uri": "https://localhost:8080/",
          "height": 206
        },
        "id": "-E2Of1EbzvgJ",
        "outputId": "c113426c-09b1-4168-d7b2-2346667f69b2"
      },
      "execution_count": null,
      "outputs": [
        {
          "output_type": "execute_result",
          "data": {
            "text/plain": [
              "                                               title  \\\n",
              "0  Sanders back in U.S. Senate, blasts 'coloniali...   \n",
              "1  Kremlin: Syria peoples' congress being 'active...   \n",
              "2   Oregon Cop Convicted Of Shattering Biker’s Co...   \n",
              "3   Twitter Erupts With Glee Over #CruzSexScandal...   \n",
              "4  MUST WATCH VIDEO: Obama Tries To Trash Trump B...   \n",
              "\n",
              "                                                text  label  \n",
              "0  WASHINGTON (Reuters) - Democratic U.S. preside...      1  \n",
              "1  MOSCOW (Reuters) - A proposal to convene a con...      1  \n",
              "2  In a baffling fit of rage, an Oregon State Pol...      0  \n",
              "3  The last thing any politician running for the ...      0  \n",
              "4  This is too good to miss! Mr. Teleprompter did...      0  "
            ],
            "text/html": [
              "\n",
              "  <div id=\"df-c76c88b9-1481-484b-b2c2-305b1743e8a8\" class=\"colab-df-container\">\n",
              "    <div>\n",
              "<style scoped>\n",
              "    .dataframe tbody tr th:only-of-type {\n",
              "        vertical-align: middle;\n",
              "    }\n",
              "\n",
              "    .dataframe tbody tr th {\n",
              "        vertical-align: top;\n",
              "    }\n",
              "\n",
              "    .dataframe thead th {\n",
              "        text-align: right;\n",
              "    }\n",
              "</style>\n",
              "<table border=\"1\" class=\"dataframe\">\n",
              "  <thead>\n",
              "    <tr style=\"text-align: right;\">\n",
              "      <th></th>\n",
              "      <th>title</th>\n",
              "      <th>text</th>\n",
              "      <th>label</th>\n",
              "    </tr>\n",
              "  </thead>\n",
              "  <tbody>\n",
              "    <tr>\n",
              "      <th>0</th>\n",
              "      <td>Sanders back in U.S. Senate, blasts 'coloniali...</td>\n",
              "      <td>WASHINGTON (Reuters) - Democratic U.S. preside...</td>\n",
              "      <td>1</td>\n",
              "    </tr>\n",
              "    <tr>\n",
              "      <th>1</th>\n",
              "      <td>Kremlin: Syria peoples' congress being 'active...</td>\n",
              "      <td>MOSCOW (Reuters) - A proposal to convene a con...</td>\n",
              "      <td>1</td>\n",
              "    </tr>\n",
              "    <tr>\n",
              "      <th>2</th>\n",
              "      <td>Oregon Cop Convicted Of Shattering Biker’s Co...</td>\n",
              "      <td>In a baffling fit of rage, an Oregon State Pol...</td>\n",
              "      <td>0</td>\n",
              "    </tr>\n",
              "    <tr>\n",
              "      <th>3</th>\n",
              "      <td>Twitter Erupts With Glee Over #CruzSexScandal...</td>\n",
              "      <td>The last thing any politician running for the ...</td>\n",
              "      <td>0</td>\n",
              "    </tr>\n",
              "    <tr>\n",
              "      <th>4</th>\n",
              "      <td>MUST WATCH VIDEO: Obama Tries To Trash Trump B...</td>\n",
              "      <td>This is too good to miss! Mr. Teleprompter did...</td>\n",
              "      <td>0</td>\n",
              "    </tr>\n",
              "  </tbody>\n",
              "</table>\n",
              "</div>\n",
              "    <div class=\"colab-df-buttons\">\n",
              "\n",
              "  <div class=\"colab-df-container\">\n",
              "    <button class=\"colab-df-convert\" onclick=\"convertToInteractive('df-c76c88b9-1481-484b-b2c2-305b1743e8a8')\"\n",
              "            title=\"Convert this dataframe to an interactive table.\"\n",
              "            style=\"display:none;\">\n",
              "\n",
              "  <svg xmlns=\"http://www.w3.org/2000/svg\" height=\"24px\" viewBox=\"0 -960 960 960\">\n",
              "    <path d=\"M120-120v-720h720v720H120Zm60-500h600v-160H180v160Zm220 220h160v-160H400v160Zm0 220h160v-160H400v160ZM180-400h160v-160H180v160Zm440 0h160v-160H620v160ZM180-180h160v-160H180v160Zm440 0h160v-160H620v160Z\"/>\n",
              "  </svg>\n",
              "    </button>\n",
              "\n",
              "  <style>\n",
              "    .colab-df-container {\n",
              "      display:flex;\n",
              "      gap: 12px;\n",
              "    }\n",
              "\n",
              "    .colab-df-convert {\n",
              "      background-color: #E8F0FE;\n",
              "      border: none;\n",
              "      border-radius: 50%;\n",
              "      cursor: pointer;\n",
              "      display: none;\n",
              "      fill: #1967D2;\n",
              "      height: 32px;\n",
              "      padding: 0 0 0 0;\n",
              "      width: 32px;\n",
              "    }\n",
              "\n",
              "    .colab-df-convert:hover {\n",
              "      background-color: #E2EBFA;\n",
              "      box-shadow: 0px 1px 2px rgba(60, 64, 67, 0.3), 0px 1px 3px 1px rgba(60, 64, 67, 0.15);\n",
              "      fill: #174EA6;\n",
              "    }\n",
              "\n",
              "    .colab-df-buttons div {\n",
              "      margin-bottom: 4px;\n",
              "    }\n",
              "\n",
              "    [theme=dark] .colab-df-convert {\n",
              "      background-color: #3B4455;\n",
              "      fill: #D2E3FC;\n",
              "    }\n",
              "\n",
              "    [theme=dark] .colab-df-convert:hover {\n",
              "      background-color: #434B5C;\n",
              "      box-shadow: 0px 1px 3px 1px rgba(0, 0, 0, 0.15);\n",
              "      filter: drop-shadow(0px 1px 2px rgba(0, 0, 0, 0.3));\n",
              "      fill: #FFFFFF;\n",
              "    }\n",
              "  </style>\n",
              "\n",
              "    <script>\n",
              "      const buttonEl =\n",
              "        document.querySelector('#df-c76c88b9-1481-484b-b2c2-305b1743e8a8 button.colab-df-convert');\n",
              "      buttonEl.style.display =\n",
              "        google.colab.kernel.accessAllowed ? 'block' : 'none';\n",
              "\n",
              "      async function convertToInteractive(key) {\n",
              "        const element = document.querySelector('#df-c76c88b9-1481-484b-b2c2-305b1743e8a8');\n",
              "        const dataTable =\n",
              "          await google.colab.kernel.invokeFunction('convertToInteractive',\n",
              "                                                    [key], {});\n",
              "        if (!dataTable) return;\n",
              "\n",
              "        const docLinkHtml = 'Like what you see? Visit the ' +\n",
              "          '<a target=\"_blank\" href=https://colab.research.google.com/notebooks/data_table.ipynb>data table notebook</a>'\n",
              "          + ' to learn more about interactive tables.';\n",
              "        element.innerHTML = '';\n",
              "        dataTable['output_type'] = 'display_data';\n",
              "        await google.colab.output.renderOutput(dataTable, element);\n",
              "        const docLink = document.createElement('div');\n",
              "        docLink.innerHTML = docLinkHtml;\n",
              "        element.appendChild(docLink);\n",
              "      }\n",
              "    </script>\n",
              "  </div>\n",
              "\n",
              "\n",
              "<div id=\"df-0eae827c-5309-4b47-ab52-e4e3d2f61238\">\n",
              "  <button class=\"colab-df-quickchart\" onclick=\"quickchart('df-0eae827c-5309-4b47-ab52-e4e3d2f61238')\"\n",
              "            title=\"Suggest charts\"\n",
              "            style=\"display:none;\">\n",
              "\n",
              "<svg xmlns=\"http://www.w3.org/2000/svg\" height=\"24px\"viewBox=\"0 0 24 24\"\n",
              "     width=\"24px\">\n",
              "    <g>\n",
              "        <path d=\"M19 3H5c-1.1 0-2 .9-2 2v14c0 1.1.9 2 2 2h14c1.1 0 2-.9 2-2V5c0-1.1-.9-2-2-2zM9 17H7v-7h2v7zm4 0h-2V7h2v10zm4 0h-2v-4h2v4z\"/>\n",
              "    </g>\n",
              "</svg>\n",
              "  </button>\n",
              "\n",
              "<style>\n",
              "  .colab-df-quickchart {\n",
              "      --bg-color: #E8F0FE;\n",
              "      --fill-color: #1967D2;\n",
              "      --hover-bg-color: #E2EBFA;\n",
              "      --hover-fill-color: #174EA6;\n",
              "      --disabled-fill-color: #AAA;\n",
              "      --disabled-bg-color: #DDD;\n",
              "  }\n",
              "\n",
              "  [theme=dark] .colab-df-quickchart {\n",
              "      --bg-color: #3B4455;\n",
              "      --fill-color: #D2E3FC;\n",
              "      --hover-bg-color: #434B5C;\n",
              "      --hover-fill-color: #FFFFFF;\n",
              "      --disabled-bg-color: #3B4455;\n",
              "      --disabled-fill-color: #666;\n",
              "  }\n",
              "\n",
              "  .colab-df-quickchart {\n",
              "    background-color: var(--bg-color);\n",
              "    border: none;\n",
              "    border-radius: 50%;\n",
              "    cursor: pointer;\n",
              "    display: none;\n",
              "    fill: var(--fill-color);\n",
              "    height: 32px;\n",
              "    padding: 0;\n",
              "    width: 32px;\n",
              "  }\n",
              "\n",
              "  .colab-df-quickchart:hover {\n",
              "    background-color: var(--hover-bg-color);\n",
              "    box-shadow: 0 1px 2px rgba(60, 64, 67, 0.3), 0 1px 3px 1px rgba(60, 64, 67, 0.15);\n",
              "    fill: var(--button-hover-fill-color);\n",
              "  }\n",
              "\n",
              "  .colab-df-quickchart-complete:disabled,\n",
              "  .colab-df-quickchart-complete:disabled:hover {\n",
              "    background-color: var(--disabled-bg-color);\n",
              "    fill: var(--disabled-fill-color);\n",
              "    box-shadow: none;\n",
              "  }\n",
              "\n",
              "  .colab-df-spinner {\n",
              "    border: 2px solid var(--fill-color);\n",
              "    border-color: transparent;\n",
              "    border-bottom-color: var(--fill-color);\n",
              "    animation:\n",
              "      spin 1s steps(1) infinite;\n",
              "  }\n",
              "\n",
              "  @keyframes spin {\n",
              "    0% {\n",
              "      border-color: transparent;\n",
              "      border-bottom-color: var(--fill-color);\n",
              "      border-left-color: var(--fill-color);\n",
              "    }\n",
              "    20% {\n",
              "      border-color: transparent;\n",
              "      border-left-color: var(--fill-color);\n",
              "      border-top-color: var(--fill-color);\n",
              "    }\n",
              "    30% {\n",
              "      border-color: transparent;\n",
              "      border-left-color: var(--fill-color);\n",
              "      border-top-color: var(--fill-color);\n",
              "      border-right-color: var(--fill-color);\n",
              "    }\n",
              "    40% {\n",
              "      border-color: transparent;\n",
              "      border-right-color: var(--fill-color);\n",
              "      border-top-color: var(--fill-color);\n",
              "    }\n",
              "    60% {\n",
              "      border-color: transparent;\n",
              "      border-right-color: var(--fill-color);\n",
              "    }\n",
              "    80% {\n",
              "      border-color: transparent;\n",
              "      border-right-color: var(--fill-color);\n",
              "      border-bottom-color: var(--fill-color);\n",
              "    }\n",
              "    90% {\n",
              "      border-color: transparent;\n",
              "      border-bottom-color: var(--fill-color);\n",
              "    }\n",
              "  }\n",
              "</style>\n",
              "\n",
              "  <script>\n",
              "    async function quickchart(key) {\n",
              "      const quickchartButtonEl =\n",
              "        document.querySelector('#' + key + ' button');\n",
              "      quickchartButtonEl.disabled = true;  // To prevent multiple clicks.\n",
              "      quickchartButtonEl.classList.add('colab-df-spinner');\n",
              "      try {\n",
              "        const charts = await google.colab.kernel.invokeFunction(\n",
              "            'suggestCharts', [key], {});\n",
              "      } catch (error) {\n",
              "        console.error('Error during call to suggestCharts:', error);\n",
              "      }\n",
              "      quickchartButtonEl.classList.remove('colab-df-spinner');\n",
              "      quickchartButtonEl.classList.add('colab-df-quickchart-complete');\n",
              "    }\n",
              "    (() => {\n",
              "      let quickchartButtonEl =\n",
              "        document.querySelector('#df-0eae827c-5309-4b47-ab52-e4e3d2f61238 button');\n",
              "      quickchartButtonEl.style.display =\n",
              "        google.colab.kernel.accessAllowed ? 'block' : 'none';\n",
              "    })();\n",
              "  </script>\n",
              "</div>\n",
              "\n",
              "    </div>\n",
              "  </div>\n"
            ],
            "application/vnd.google.colaboratory.intrinsic+json": {
              "type": "dataframe",
              "variable_name": "data",
              "summary": "{\n  \"name\": \"data\",\n  \"rows\": 8117,\n  \"fields\": [\n    {\n      \"column\": \"title\",\n      \"properties\": {\n        \"dtype\": \"string\",\n        \"num_unique_values\": 8086,\n        \"samples\": [\n          \"Republicans voice growing doubts on U.S. healthcare bill's fate\",\n          \"German president says all parties have duty to try to form government\",\n          \" Bruce Springsteen Just Unleashed His Fury On North Carolina And It Is Glorious\"\n        ],\n        \"semantic_type\": \"\",\n        \"description\": \"\"\n      }\n    },\n    {\n      \"column\": \"text\",\n      \"properties\": {\n        \"dtype\": \"string\",\n        \"num_unique_values\": 8117,\n        \"samples\": [\n          \"LUANDA (Reuters) - Angola s ruling MPLA party has won a general election by taking 61.07 percent of the vote, the electoral commission said on Wednesday, making Jo o Louren o the next president of sub-Saharan Africa s third-largest economy. He will replace Jose Eduardo dos Santos, who steps down after 38 years at the helm but will continue as head of the People s Movement for the Liberation of Angola (MPLA). The main opposition National Union for the Total Independence of Angola (UNITA) took 26.67 percent, with the smaller opposition party CASA-CE winning 9.44 percent.  Mission accomplished,  Louren o told supporters at his party s headquarters in Luanda.  We ll produce a better future for the country and the people of Angola,  he said in his first comments as president-elect. He is expected to take office on Sept. 21. UNITA, which has repeatedly complained that the electoral process has been non-transparent and illegal, declined to comment after the results on Wednesday. A spokesman told Reuters a statement will be made on Thursday. UNITA has previously said it will appeal the results. Speaking earlier on Wednesday, the spokeswoman for the National Electoral Commission Julia Ferreira rejected the opposition s complaints as having a  lack of clarity and objectivity , adding sufficient proof had not been presented. Electoral observers have said the vote on Aug 23 was reasonably free and fair. The head of the African Union s observation mission, Jose Maria Neves, congratulated Angola on a poll he said served as a  reference for the continent . Speaking before announcing definitive election results, President of the National Electoral Commission Andr  da Silva Neto asked the parties to accept the election results. On the streets of Luanda, cheering and the honking of horns was heard as residents celebrated another electoral win for the MPLA, which has maintained an unbroken hold on power since Africa s second-largest crude producer gained independence from Portugal in 1975. Louren o will be only the country s third president in that time. A quiet 63-year-old more used to army barracks and the closed doors of party politics than the public spotlight, he has denied he will remain in the shadow of his predecessor dos Santos. Louren o has promised to kick-start the economy and has not ruled out deals with the World Bank and International Monetary Fund to help restructure it. Angola imports everything from washing powder to long-life milk at huge cost. MPLA will have 150 lawmakers, giving them the two-thirds parliamentary majority needed to pass any form of legislation.\",\n          \"In an announcement that can put a lot of minds at ease, former Mayor of New York City Michael Bloomberg has decided that he will not be running for president. If he had decided to run, it would have undoubtedly split the vote, and could have in turn resulted in Donald Trump being president.In an editorial on Bloomberg View, the former mayor wrote: Over the last several months, many Americans have urged me to run for president as an independent, and some who don t like the current candidates have said it is my patriotic duty to do so. I appreciate their appeals, and I have given the question serious consideration. The deadline to answer it is now, because of ballot access requirements. But when I look at the data, it s clear to me that if I entered the race, I could not win. I believe I could win a number of diverse states   but not enough to win the 270 Electoral College votes necessary to win the presidency. Bloomberg Politics pointed out: In order to win, Bloomberg would have had to win pluralities in enough states to capture 270 electoral votes. The Constitution also provides for the election to be thrown into the House of Representatives to decide if no candidate can secure those votes, though that method has been used only twice, after the elections in 1800 and 1824. That body is controlled by a Republican majority. It would be almost certain the Republican nominated would ve won the presidency by any way the votes tallied.This was a very smart move on behalf of Bloomberg, putting country before his personal want to be the next Commander-in Chief. It s looking more and more like Trump will be the Republican nominee and Clinton the Democratic. Bloomberg seems to realize that in order for the Democratic candidate to win in the general election they are going to need all the votes they can get. Good on Bloomberg for this move.Featured image via Flickr\",\n          \"Judge Jeanine Pirro SLAMS Hillary Clinton after Clinton blamed WikiLeaks and Jim Comey s letter on October 28th for losing the election to President Trump.Judge Jeanine called Clinton a  loser  and told her to go back into the woods Hillary, snap out of it,  Pirro said.  I m tired of going through this with you. You re a two-time loser who lost because you were a lousy candidate, you didn t have a message, you lied every time you opened your mouth; you didn t know what states to campaign in, you put our national security at risk with your amateur email setup, you were in a foundation that was nothing more than an organized criminal enterprise parading as a charity, four men died under your watch as you lied about a video, and there were a billion dollars missing from the State Department when you left. And I could go on and on, but I just don t have the time. So, stop with the poor me nonsense. We ve had it with you Clintons always claiming victimhood. The two of you haven t followed the rules since the day you both showed up in your bell bottoms in Arkansas. Be careful, Hillary. Be very, very careful. You pulled the wool over Jim Comey s eyes once, and you actually got the president to say you re a nice lady. Don t be so sure you re going to get away with your new game, given your illegal, ill-advised, and incompetent instincts.You re a loser, Hillary. Face it. Face it, and get back in the woods!\"\n        ],\n        \"semantic_type\": \"\",\n        \"description\": \"\"\n      }\n    },\n    {\n      \"column\": \"label\",\n      \"properties\": {\n        \"dtype\": \"number\",\n        \"std\": 0,\n        \"min\": 0,\n        \"max\": 1,\n        \"num_unique_values\": 2,\n        \"samples\": [\n          0,\n          1\n        ],\n        \"semantic_type\": \"\",\n        \"description\": \"\"\n      }\n    }\n  ]\n}"
            }
          },
          "metadata": {},
          "execution_count": 8
        }
      ]
    },
    {
      "cell_type": "code",
      "source": [
        "data.shape"
      ],
      "metadata": {
        "colab": {
          "base_uri": "https://localhost:8080/"
        },
        "id": "cAI5qbiY31GK",
        "outputId": "f6a0487d-582d-4a49-b53a-ebbe5eb777a6"
      },
      "execution_count": null,
      "outputs": [
        {
          "output_type": "execute_result",
          "data": {
            "text/plain": [
              "(8117, 3)"
            ]
          },
          "metadata": {},
          "execution_count": 27
        }
      ]
    },
    {
      "cell_type": "code",
      "source": [
        "# Combine title and text for analysis\n",
        "data['content'] = data['title'] + \" \" + data['text']\n",
        "data = data[['content', 'label']]"
      ],
      "metadata": {
        "id": "4rYZkJXczbH_"
      },
      "execution_count": null,
      "outputs": []
    },
    {
      "cell_type": "code",
      "source": [
        "print(data['label'].value_counts())"
      ],
      "metadata": {
        "colab": {
          "base_uri": "https://localhost:8080/"
        },
        "id": "nTbS35uPz41a",
        "outputId": "751d9122-14f4-4dea-8757-cb5248cf8bb4"
      },
      "execution_count": null,
      "outputs": [
        {
          "output_type": "stream",
          "name": "stdout",
          "text": [
            "label\n",
            "1    4314\n",
            "0    3803\n",
            "Name: count, dtype: int64\n"
          ]
        }
      ]
    },
    {
      "cell_type": "code",
      "source": [
        "print(data['label'].unique())"
      ],
      "metadata": {
        "colab": {
          "base_uri": "https://localhost:8080/"
        },
        "id": "il2A6vb00EqI",
        "outputId": "c622746e-5594-4663-de13-4bfd66a9c5ed"
      },
      "execution_count": null,
      "outputs": [
        {
          "output_type": "stream",
          "name": "stdout",
          "text": [
            "[1 0]\n"
          ]
        }
      ]
    },
    {
      "cell_type": "code",
      "source": [
        "# prompt: for the label 0 and 1 where 0 is fake and 1 is true, make a plot to visualize the count of the label of 0 and 1\n",
        "\n",
        "import matplotlib.pyplot as plt\n",
        "import seaborn as sns\n",
        "\n",
        "# Assuming 'data' DataFrame is already defined as in the previous code\n",
        "# ... (previous code)\n",
        "\n",
        "# Plotting the label counts\n",
        "plt.figure(figsize=(8, 6))\n",
        "sns.countplot(x='label', data=data)\n",
        "plt.title('Distribution of Labels (0: Fake, 1: True)')\n",
        "plt.xlabel('Label')\n",
        "plt.ylabel('Count')\n",
        "plt.show()"
      ],
      "metadata": {
        "colab": {
          "base_uri": "https://localhost:8080/",
          "height": 564
        },
        "id": "0bqI1LgL2jOK",
        "outputId": "8006c2a9-e73a-4fae-c689-2b2b84580f12"
      },
      "execution_count": null,
      "outputs": [
        {
          "output_type": "display_data",
          "data": {
            "text/plain": [
              "<Figure size 800x600 with 1 Axes>"
            ],
            "image/png": "[encoded data removed]"
          },
          "metadata": {}
        }
      ]
    },
    {
      "cell_type": "code",
      "source": [
        "# Preprocessing function\n",
        "def preprocess(text):\n",
        "    text = text.lower()\n",
        "    text = ''.join([char for char in text if char not in string.punctuation])\n",
        "    text = ''.join([char for char in text if not char.isdigit()])\n",
        "    text = ' '.join([word for word in text.split() if word not in stop_words])\n",
        "    return text\n",
        "\n",
        "data['cleaned_content'] = data['content'].apply(preprocess)"
      ],
      "metadata": {
        "id": "qcaHRa5i0LQx"
      },
      "execution_count": null,
      "outputs": []
    },
    {
      "cell_type": "code",
      "source": [
        "# Splitting data\n",
        "X = data['cleaned_content']\n",
        "y = data['label']\n",
        "X_train, X_test, y_train, y_test = train_test_split(X, y, test_size=0.2, random_state=42)"
      ],
      "metadata": {
        "id": "saftPkKa0Q6r"
      },
      "execution_count": null,
      "outputs": []
    },
    {
      "cell_type": "code",
      "source": [
        "# TF-IDF Representation\n",
        "tfidf = TfidfVectorizer(max_features=5000)\n",
        "X_train_tfidf = tfidf.fit_transform(X_train).toarray()\n",
        "X_test_tfidf = tfidf.transform(X_test).toarray()\n",
        "\n",
        "# Logistic Regression on TF-IDF\n",
        "lr = LogisticRegression()\n",
        "lr.fit(X_train_tfidf, y_train)\n",
        "y_pred_tfidf = lr.predict(X_test_tfidf)\n",
        "\n",
        "# Evaluation for TF-IDF\n",
        "print(\"TF-IDF Classification Report\")\n",
        "print(classification_report(y_test, y_pred_tfidf))"
      ],
      "metadata": {
        "colab": {
          "base_uri": "https://localhost:8080/"
        },
        "id": "GyYeViLc0qd8",
        "outputId": "c71d4b83-7b35-42d2-d14e-4758d7c2164f"
      },
      "execution_count": null,
      "outputs": [
        {
          "output_type": "stream",
          "name": "stdout",
          "text": [
            "TF-IDF Classification Report\n",
            "              precision    recall  f1-score   support\n",
            "\n",
            "           0       0.96      0.95      0.95       764\n",
            "           1       0.96      0.96      0.96       860\n",
            "\n",
            "    accuracy                           0.96      1624\n",
            "   macro avg       0.96      0.96      0.96      1624\n",
            "weighted avg       0.96      0.96      0.96      1624\n",
            "\n"
          ]
        }
      ]
    },
    {
      "cell_type": "code",
      "source": [
        "# Word2Vec Representation\n",
        "tokenized_train = [sentence.split() for sentence in X_train]\n",
        "tokenized_test = [sentence.split() for sentence in X_test]\n",
        "\n",
        "w2v_model = Word2Vec(sentences=tokenized_train, vector_size=100, window=5, min_count=2, workers=4)\n",
        "embedding_matrix = np.zeros((len(w2v_model.wv.key_to_index) + 1, 100))\n",
        "\n",
        "word_index = {word: idx for idx, word in enumerate(w2v_model.wv.key_to_index)}\n",
        "for word, idx in word_index.items():\n",
        "    embedding_matrix[idx] = w2v_model.wv[word]"
      ],
      "metadata": {
        "id": "ZzOB-uyH0tis"
      },
      "execution_count": null,
      "outputs": []
    },
    {
      "cell_type": "code",
      "source": [
        "# Neural Network for Word2Vec\n",
        "from tensorflow.keras.preprocessing.sequence import pad_sequences # Import pad_sequences\n",
        "\n",
        "def tokenize_text(tokenized_data, word_index, max_len=100):\n",
        "    # Convert sentences to numerical indices\n",
        "    sequences = [[word_index.get(word, 0) for word in sentence[:max_len]] for sentence in tokenized_data]\n",
        "\n",
        "    # Pad sequences to ensure uniform length\n",
        "    padded_sequences = pad_sequences(sequences, maxlen=max_len, padding='post', truncating='post')\n",
        "\n",
        "    return padded_sequences\n",
        "\n",
        "X_train_w2v = tokenize_text(tokenized_train, word_index)\n",
        "X_test_w2v = tokenize_text(tokenized_test, word_index)\n",
        "\n",
        "model = Sequential([\n",
        "    Embedding(input_dim=embedding_matrix.shape[0], output_dim=100, weights=[embedding_matrix], trainable=False),\n",
        "    GlobalAveragePooling1D(),\n",
        "    Dense(1, activation='sigmoid')\n",
        "])\n",
        "\n",
        "model.compile(optimizer='adam', loss='binary_crossentropy', metrics=['accuracy'])\n",
        "model.fit(X_train_w2v, y_train, epochs=5, batch_size=32, validation_split=0.2)\n",
        "\n",
        "y_pred_w2v = (model.predict(X_test_w2v) > 0.5).astype(int)"
      ],
      "metadata": {
        "colab": {
          "base_uri": "https://localhost:8080/"
        },
        "id": "UOeJ3MOK1L7g",
        "outputId": "66ad08b2-4905-4376-b28c-4387a68a6d84"
      },
      "execution_count": null,
      "outputs": [
        {
          "output_type": "stream",
          "name": "stdout",
          "text": [
            "Epoch 1/5\n",
            "\u001b[1m163/163\u001b[0m \u001b[32m━━━━━━━━━━━━━━━━━━━━\u001b[0m\u001b[37m\u001b[0m \u001b[1m5s\u001b[0m 11ms/step - accuracy: 0.6416 - loss: 0.6607 - val_accuracy: 0.8591 - val_loss: 0.4891\n",
            "Epoch 2/5\n",
            "\u001b[1m163/163\u001b[0m \u001b[32m━━━━━━━━━━━━━━━━━━━━\u001b[0m\u001b[37m\u001b[0m \u001b[1m1s\u001b[0m 6ms/step - accuracy: 0.8628 - loss: 0.4588 - val_accuracy: 0.8676 - val_loss: 0.3909\n",
            "Epoch 3/5\n",
            "\u001b[1m163/163\u001b[0m \u001b[32m━━━━━━━━━━━━━━━━━━━━\u001b[0m\u001b[37m\u001b[0m \u001b[1m1s\u001b[0m 6ms/step - accuracy: 0.8739 - loss: 0.3789 - val_accuracy: 0.8822 - val_loss: 0.3413\n",
            "Epoch 4/5\n",
            "\u001b[1m163/163\u001b[0m \u001b[32m━━━━━━━━━━━━━━━━━━━━\u001b[0m\u001b[37m\u001b[0m \u001b[1m1s\u001b[0m 5ms/step - accuracy: 0.8930 - loss: 0.3309 - val_accuracy: 0.8915 - val_loss: 0.3127\n",
            "Epoch 5/5\n",
            "\u001b[1m163/163\u001b[0m \u001b[32m━━━━━━━━━━━━━━━━━━━━\u001b[0m\u001b[37m\u001b[0m \u001b[1m1s\u001b[0m 4ms/step - accuracy: 0.8959 - loss: 0.3024 - val_accuracy: 0.8915 - val_loss: 0.2945\n",
            "\u001b[1m51/51\u001b[0m \u001b[32m━━━━━━━━━━━━━━━━━━━━\u001b[0m\u001b[37m\u001b[0m \u001b[1m0s\u001b[0m 4ms/step\n"
          ]
        }
      ]
    },
    {
      "cell_type": "code",
      "source": [
        "# Evaluation for Word2Vec\n",
        "print(\"Word2Vec Classification Report\")\n",
        "print(classification_report(y_test, y_pred_w2v))"
      ],
      "metadata": {
        "colab": {
          "base_uri": "https://localhost:8080/"
        },
        "id": "nYRWBqaD1TSf",
        "outputId": "3d5337b5-611d-430f-961c-45bcd95c4106"
      },
      "execution_count": null,
      "outputs": [
        {
          "output_type": "stream",
          "name": "stdout",
          "text": [
            "Word2Vec Classification Report\n",
            "              precision    recall  f1-score   support\n",
            "\n",
            "           0       0.90      0.88      0.89       764\n",
            "           1       0.89      0.91      0.90       860\n",
            "\n",
            "    accuracy                           0.90      1624\n",
            "   macro avg       0.90      0.90      0.90      1624\n",
            "weighted avg       0.90      0.90      0.90      1624\n",
            "\n"
          ]
        }
      ]
    },
    {
      "cell_type": "code",
      "source": [
        "from sklearn.metrics import confusion_matrix, ConfusionMatrixDisplay\n",
        "import matplotlib.pyplot as plt\n",
        "\n",
        "# Confusion Matrix for TF-IDF\n",
        "cm_tfidf = confusion_matrix(y_test, y_pred_tfidf)\n",
        "disp_tfidf = ConfusionMatrixDisplay(confusion_matrix=cm_tfidf, display_labels=[\"Fake (0)\", \"True (1)\"])\n",
        "disp_tfidf.plot(cmap=plt.cm.Blues, values_format='d')\n",
        "plt.title(\"Confusion Matrix (TF-IDF)\")\n",
        "plt.show()\n",
        "\n",
        "# Confusion Matrix for Word2Vec\n",
        "cm_w2v = confusion_matrix(y_test, y_pred_w2v)\n",
        "disp_w2v = ConfusionMatrixDisplay(confusion_matrix=cm_w2v, display_labels=[\"Fake (0)\", \"True (1)\"])\n",
        "disp_w2v.plot(cmap=plt.cm.Purples, values_format='d')\n",
        "plt.title(\"Confusion Matrix (Word2Vec)\")\n",
        "plt.show()\n"
      ],
      "metadata": {
        "colab": {
          "base_uri": "https://localhost:8080/",
          "height": 927
        },
        "id": "pYqJj-TO1g4s",
        "outputId": "847374f1-c9c1-4f77-ae92-b154982acdc0"
      },
      "execution_count": null,
      "outputs": [
        {
          "output_type": "display_data",
          "data": {
            "text/plain": [
              "<Figure size 640x480 with 2 Axes>"
            ],
            "image/png": "[encoded data removed]"
          },
          "metadata": {}
        },
        {
          "output_type": "display_data",
          "data": {
            "text/plain": [
              "<Figure size 640x480 with 2 Axes>"
            ],
            "image/png": "[encoded data removed]"
          },
          "metadata": {}
        }
      ]
    },
    {
      "cell_type": "code",
      "source": [],
      "metadata": {
        "id": "g-hV4NRH1zp5"
      },
      "execution_count": null,
      "outputs": []
    }
  ]
}